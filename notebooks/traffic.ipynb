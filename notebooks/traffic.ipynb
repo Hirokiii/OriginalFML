{
 "cells": [
  {
   "cell_type": "code",
   "execution_count": 1,
   "metadata": {},
   "outputs": [],
   "source": [
    "import numpy as np\n",
    "import scipy.io\n",
    "import pandas as pd\n",
    "mat = scipy.io.loadmat('../data/traffic/traffic_dataset.mat')"
   ]
  },
  {
   "cell_type": "code",
   "execution_count": 2,
   "metadata": {},
   "outputs": [
    {
     "data": {
      "text/plain": [
       "dict_keys(['__header__', '__version__', '__globals__', 'tra_X_tr', 'tra_X_te', 'tra_Y_tr', 'tra_Y_te', 'tra_adj_mat'])"
      ]
     },
     "execution_count": 2,
     "metadata": {},
     "output_type": "execute_result"
    }
   ],
   "source": [
    "mat.keys()"
   ]
  },
  {
   "cell_type": "code",
   "execution_count": 3,
   "metadata": {},
   "outputs": [
    {
     "data": {
      "text/plain": [
       "<36x48 sparse matrix of type '<class 'numpy.float64'>'\n",
       "\twith 540 stored elements in Compressed Sparse Column format>"
      ]
     },
     "execution_count": 3,
     "metadata": {},
     "output_type": "execute_result"
    }
   ],
   "source": [
    "mat[\"tra_X_tr\"][0][0]"
   ]
  },
  {
   "cell_type": "code",
   "execution_count": 4,
   "metadata": {},
   "outputs": [
    {
     "data": {
      "text/plain": [
       "<36x48 sparse matrix of type '<class 'numpy.float64'>'\n",
       "\twith 540 stored elements in Compressed Sparse Column format>"
      ]
     },
     "execution_count": 4,
     "metadata": {},
     "output_type": "execute_result"
    }
   ],
   "source": [
    "from scipy.sparse import csc_matrix\n",
    "csc_matrix(mat[\"tra_X_tr\"][0][0])"
   ]
  },
  {
   "cell_type": "code",
   "execution_count": 5,
   "metadata": {},
   "outputs": [
    {
     "data": {
      "text/plain": [
       "numpy.ndarray"
      ]
     },
     "execution_count": 5,
     "metadata": {},
     "output_type": "execute_result"
    }
   ],
   "source": [
    "type(mat[\"tra_X_tr\"])"
   ]
  },
  {
   "cell_type": "code",
   "execution_count": 6,
   "metadata": {},
   "outputs": [
    {
     "data": {
      "text/plain": [
       "numpy.ndarray"
      ]
     },
     "execution_count": 6,
     "metadata": {},
     "output_type": "execute_result"
    }
   ],
   "source": [
    "type(mat[\"tra_X_tr\"][0])"
   ]
  },
  {
   "cell_type": "code",
   "execution_count": 7,
   "metadata": {},
   "outputs": [
    {
     "data": {
      "text/plain": [
       "scipy.sparse._csc.csc_matrix"
      ]
     },
     "execution_count": 7,
     "metadata": {},
     "output_type": "execute_result"
    }
   ],
   "source": [
    "type(mat[\"tra_X_tr\"][0][0])"
   ]
  },
  {
   "cell_type": "code",
   "execution_count": 8,
   "metadata": {},
   "outputs": [
    {
     "data": {
      "text/plain": [
       "array([[0.09248015, 0.09668379, 0.07006072, ..., 0.        , 0.        ,\n",
       "        0.        ],\n",
       "       [0.09715086, 0.10228865, 0.08173751, ..., 0.        , 0.        ,\n",
       "        0.        ],\n",
       "       [0.11536665, 0.11069594, 0.10555815, ..., 0.        , 0.        ,\n",
       "        0.        ],\n",
       "       ...,\n",
       "       [0.06772536, 0.08173751, 0.06118636, ..., 0.        , 0.        ,\n",
       "        1.        ],\n",
       "       [0.09388136, 0.11069594, 0.08827651, ..., 0.        , 0.        ,\n",
       "        1.        ],\n",
       "       [0.08313872, 0.06679122, 0.06725829, ..., 0.        , 1.        ,\n",
       "        0.        ]])"
      ]
     },
     "execution_count": 8,
     "metadata": {},
     "output_type": "execute_result"
    }
   ],
   "source": [
    "mat[\"tra_X_tr\"][0][0].toarray()"
   ]
  },
  {
   "cell_type": "code",
   "execution_count": 9,
   "metadata": {},
   "outputs": [
    {
     "data": {
      "text/plain": [
       "array([0.09248015, 0.09668379, 0.07006072, 0.06585708, 0.07846801,\n",
       "       0.07146193, 0.05418029, 0.04437179, 0.05464736, 0.05091079,\n",
       "       1.        , 0.        , 0.        , 0.        , 0.        ,\n",
       "       1.        , 0.        , 0.        , 0.        , 0.        ,\n",
       "       0.        , 0.        , 0.        , 0.        , 0.        ,\n",
       "       0.        , 0.        , 0.        , 0.        , 0.        ,\n",
       "       0.        , 0.        , 0.        , 0.        , 0.        ,\n",
       "       0.        , 0.        , 0.        , 0.        , 3.        ,\n",
       "       1.        , 0.        , 0.        , 0.        , 1.        ,\n",
       "       0.        , 0.        , 0.        ])"
      ]
     },
     "execution_count": 9,
     "metadata": {},
     "output_type": "execute_result"
    }
   ],
   "source": [
    "mat[\"tra_X_tr\"][0][0].toarray()[0]"
   ]
  },
  {
   "cell_type": "code",
   "execution_count": 10,
   "metadata": {},
   "outputs": [
    {
     "data": {
      "text/plain": [
       "(1, 1261)"
      ]
     },
     "execution_count": 10,
     "metadata": {},
     "output_type": "execute_result"
    }
   ],
   "source": [
    "mat[\"tra_X_tr\"].shape"
   ]
  },
  {
   "cell_type": "code",
   "execution_count": 11,
   "metadata": {},
   "outputs": [
    {
     "data": {
      "text/plain": [
       "(1261,)"
      ]
     },
     "execution_count": 11,
     "metadata": {},
     "output_type": "execute_result"
    }
   ],
   "source": [
    "mat[\"tra_X_tr\"][0].shape"
   ]
  },
  {
   "cell_type": "code",
   "execution_count": 12,
   "metadata": {},
   "outputs": [
    {
     "data": {
      "text/plain": [
       "(36, 48)"
      ]
     },
     "execution_count": 12,
     "metadata": {},
     "output_type": "execute_result"
    }
   ],
   "source": [
    "mat[\"tra_X_tr\"][0][0].shape"
   ]
  },
  {
   "cell_type": "code",
   "execution_count": 13,
   "metadata": {},
   "outputs": [
    {
     "data": {
      "text/plain": [
       "(36, 1261)"
      ]
     },
     "execution_count": 13,
     "metadata": {},
     "output_type": "execute_result"
    }
   ],
   "source": [
    "mat[\"tra_Y_tr\"].shape"
   ]
  },
  {
   "cell_type": "code",
   "execution_count": 14,
   "metadata": {},
   "outputs": [
    {
     "data": {
      "text/plain": [
       "48"
      ]
     },
     "execution_count": 14,
     "metadata": {},
     "output_type": "execute_result"
    }
   ],
   "source": [
    "cols = [\n",
    "    \"p1\",\n",
    "    \"p2\",\n",
    "    \"p3\",\n",
    "    \"p4\",\n",
    "    \"p5\",\n",
    "    \"p6\",\n",
    "    \"p7\",\n",
    "    \"p8\",\n",
    "    \"p9\",\n",
    "    \"p10\",\n",
    "    \"w1\",\n",
    "    \"w2\",\n",
    "    \"w3\",\n",
    "    \"w4\",\n",
    "    \"w5\",\n",
    "    \"w6\",\n",
    "    \"w7\",\n",
    "    \"h0\",\n",
    "    \"h1\",\n",
    "    \"h2\",\n",
    "    \"h3\",\n",
    "    \"h4\",\n",
    "    \"h5\",\n",
    "    \"h6\",\n",
    "    \"h7\",\n",
    "    \"h8\",\n",
    "    \"h9\",\n",
    "    \"h10\",\n",
    "    \"h11\",\n",
    "    \"h12\",\n",
    "    \"h13\",\n",
    "    \"h14\",\n",
    "    \"h15\",\n",
    "    \"h16\",\n",
    "    \"h17\",\n",
    "    \"h18\",\n",
    "    \"h19\",\n",
    "    \"h20\",\n",
    "    \"h21\",\n",
    "    \"h22\",\n",
    "    \"h23\",\n",
    "    \"d1\",\n",
    "    \"d2\",\n",
    "    \"d3\",\n",
    "    \"d4\",\n",
    "    \"#lanes\",\n",
    "    \"name\",\n",
    "    \"something\"\n",
    "]\n",
    "len(cols)"
   ]
  },
  {
   "cell_type": "code",
   "execution_count": 15,
   "metadata": {},
   "outputs": [],
   "source": [
    "# convert 3D to 2D for X\n",
    "def convert3Dto2D(data):\n",
    "    result = data[0][0].toarray()\n",
    "    for i in range(1, len(data[0])):\n",
    "        try:\n",
    "            result = np.vstack((result, data[0][i].toarray()))\n",
    "        except:\n",
    "            print(f\"err at {i}. result.shape: {result.shape}\")\n",
    "    return pd.DataFrame(result, columns=cols)    "
   ]
  },
  {
   "cell_type": "code",
   "execution_count": 16,
   "metadata": {},
   "outputs": [],
   "source": [
    "X_train = convert3Dto2D(mat[\"tra_X_tr\"])\n",
    "X_test = convert3Dto2D(mat[\"tra_X_te\"])"
   ]
  },
  {
   "cell_type": "code",
   "execution_count": 17,
   "metadata": {},
   "outputs": [
    {
     "data": {
      "text/plain": [
       "((45396, 48),\n",
       "          p1        p2        p3        p4        p5        p6        p7  \\\n",
       " 0  0.092480  0.096684  0.070061  0.065857  0.078468  0.071462  0.054180   \n",
       " 1  0.097151  0.102289  0.081738  0.076600  0.072396  0.067725  0.058851   \n",
       " 2  0.115367  0.110696  0.105558  0.095283  0.067725  0.080336  0.062588   \n",
       " 3  0.112097  0.102756  0.092013  0.083606  0.062121  0.070995  0.053713   \n",
       " 4  0.127043  0.150864  0.131714  0.106025  0.099019  0.090612  0.069127   \n",
       " \n",
       "          p8        p9       p10  ...  h21  h22  h23   d1   d2   d3   d4  \\\n",
       " 0  0.044372  0.054647  0.050911  ...  0.0  3.0  1.0  0.0  0.0  0.0  1.0   \n",
       " 1  0.066324  0.059785  0.056983  ...  0.0  4.0  1.0  0.0  0.0  0.0  1.0   \n",
       " 2  0.061653  0.055582  0.061653  ...  0.0  3.0  1.0  0.0  0.0  0.0  1.0   \n",
       " 3  0.062588  0.053713  0.066791  ...  0.0  3.0  1.0  0.0  0.0  0.0  1.0   \n",
       " 4  0.060719  0.060719  0.067258  ...  0.0  5.0  1.0  0.0  0.0  0.0  0.0   \n",
       " \n",
       "    #lanes  name  something  \n",
       " 0     0.0   0.0        0.0  \n",
       " 1     0.0   0.0        0.0  \n",
       " 2     0.0   0.0        0.0  \n",
       " 3     0.0   0.0        0.0  \n",
       " 4     1.0   0.0        0.0  \n",
       " \n",
       " [5 rows x 48 columns])"
      ]
     },
     "execution_count": 17,
     "metadata": {},
     "output_type": "execute_result"
    }
   ],
   "source": [
    "X_train.shape, X_train.head()"
   ]
  },
  {
   "cell_type": "code",
   "execution_count": 18,
   "metadata": {},
   "outputs": [],
   "source": [
    "y_train = mat[\"tra_Y_tr\"].T.flatten()\n",
    "y_test = mat[\"tra_Y_te\"].T.flatten()"
   ]
  },
  {
   "cell_type": "code",
   "execution_count": 19,
   "metadata": {},
   "outputs": [
    {
     "data": {
      "text/html": [
       "<div>\n",
       "<style scoped>\n",
       "    .dataframe tbody tr th:only-of-type {\n",
       "        vertical-align: middle;\n",
       "    }\n",
       "\n",
       "    .dataframe tbody tr th {\n",
       "        vertical-align: top;\n",
       "    }\n",
       "\n",
       "    .dataframe thead th {\n",
       "        text-align: right;\n",
       "    }\n",
       "</style>\n",
       "<table border=\"1\" class=\"dataframe\">\n",
       "  <thead>\n",
       "    <tr style=\"text-align: right;\">\n",
       "      <th></th>\n",
       "      <th>p1</th>\n",
       "      <th>p2</th>\n",
       "      <th>p3</th>\n",
       "      <th>p4</th>\n",
       "      <th>p5</th>\n",
       "      <th>p6</th>\n",
       "      <th>p7</th>\n",
       "      <th>p8</th>\n",
       "      <th>p9</th>\n",
       "      <th>p10</th>\n",
       "      <th>...</th>\n",
       "      <th>h21</th>\n",
       "      <th>h22</th>\n",
       "      <th>h23</th>\n",
       "      <th>d1</th>\n",
       "      <th>d2</th>\n",
       "      <th>d3</th>\n",
       "      <th>d4</th>\n",
       "      <th>#lanes</th>\n",
       "      <th>name</th>\n",
       "      <th>something</th>\n",
       "    </tr>\n",
       "  </thead>\n",
       "  <tbody>\n",
       "    <tr>\n",
       "      <th>count</th>\n",
       "      <td>45396.000000</td>\n",
       "      <td>45396.000000</td>\n",
       "      <td>45396.000000</td>\n",
       "      <td>45396.000000</td>\n",
       "      <td>45396.000000</td>\n",
       "      <td>45396.000000</td>\n",
       "      <td>45396.000000</td>\n",
       "      <td>45396.000000</td>\n",
       "      <td>45396.000000</td>\n",
       "      <td>45396.000000</td>\n",
       "      <td>...</td>\n",
       "      <td>45396.000000</td>\n",
       "      <td>45396.000000</td>\n",
       "      <td>45396.000000</td>\n",
       "      <td>45396.000000</td>\n",
       "      <td>45396.000000</td>\n",
       "      <td>45396.000000</td>\n",
       "      <td>45396.000000</td>\n",
       "      <td>45396.000000</td>\n",
       "      <td>45396.000000</td>\n",
       "      <td>45396.000000</td>\n",
       "    </tr>\n",
       "    <tr>\n",
       "      <th>mean</th>\n",
       "      <td>0.303292</td>\n",
       "      <td>0.303242</td>\n",
       "      <td>0.303202</td>\n",
       "      <td>0.303184</td>\n",
       "      <td>0.303190</td>\n",
       "      <td>0.303224</td>\n",
       "      <td>0.303294</td>\n",
       "      <td>0.303406</td>\n",
       "      <td>0.303564</td>\n",
       "      <td>0.303775</td>\n",
       "      <td>...</td>\n",
       "      <td>0.041237</td>\n",
       "      <td>3.527778</td>\n",
       "      <td>0.222222</td>\n",
       "      <td>0.388889</td>\n",
       "      <td>0.111111</td>\n",
       "      <td>0.277778</td>\n",
       "      <td>0.416667</td>\n",
       "      <td>0.305556</td>\n",
       "      <td>0.138889</td>\n",
       "      <td>0.138889</td>\n",
       "    </tr>\n",
       "    <tr>\n",
       "      <th>std</th>\n",
       "      <td>0.199572</td>\n",
       "      <td>0.199618</td>\n",
       "      <td>0.199655</td>\n",
       "      <td>0.199674</td>\n",
       "      <td>0.199673</td>\n",
       "      <td>0.199654</td>\n",
       "      <td>0.199620</td>\n",
       "      <td>0.199577</td>\n",
       "      <td>0.199559</td>\n",
       "      <td>0.199574</td>\n",
       "      <td>...</td>\n",
       "      <td>0.198840</td>\n",
       "      <td>0.832879</td>\n",
       "      <td>0.415744</td>\n",
       "      <td>0.487503</td>\n",
       "      <td>0.314273</td>\n",
       "      <td>0.447908</td>\n",
       "      <td>0.493012</td>\n",
       "      <td>0.460647</td>\n",
       "      <td>0.345834</td>\n",
       "      <td>0.345834</td>\n",
       "    </tr>\n",
       "    <tr>\n",
       "      <th>min</th>\n",
       "      <td>0.000000</td>\n",
       "      <td>0.000000</td>\n",
       "      <td>0.000000</td>\n",
       "      <td>0.000000</td>\n",
       "      <td>0.000000</td>\n",
       "      <td>0.000000</td>\n",
       "      <td>0.000000</td>\n",
       "      <td>0.000000</td>\n",
       "      <td>0.000000</td>\n",
       "      <td>0.000000</td>\n",
       "      <td>...</td>\n",
       "      <td>0.000000</td>\n",
       "      <td>1.000000</td>\n",
       "      <td>0.000000</td>\n",
       "      <td>0.000000</td>\n",
       "      <td>0.000000</td>\n",
       "      <td>0.000000</td>\n",
       "      <td>0.000000</td>\n",
       "      <td>0.000000</td>\n",
       "      <td>0.000000</td>\n",
       "      <td>0.000000</td>\n",
       "    </tr>\n",
       "    <tr>\n",
       "      <th>25%</th>\n",
       "      <td>0.125175</td>\n",
       "      <td>0.124708</td>\n",
       "      <td>0.124708</td>\n",
       "      <td>0.124708</td>\n",
       "      <td>0.124708</td>\n",
       "      <td>0.124708</td>\n",
       "      <td>0.124708</td>\n",
       "      <td>0.125175</td>\n",
       "      <td>0.125175</td>\n",
       "      <td>0.125642</td>\n",
       "      <td>...</td>\n",
       "      <td>0.000000</td>\n",
       "      <td>3.000000</td>\n",
       "      <td>0.000000</td>\n",
       "      <td>0.000000</td>\n",
       "      <td>0.000000</td>\n",
       "      <td>0.000000</td>\n",
       "      <td>0.000000</td>\n",
       "      <td>0.000000</td>\n",
       "      <td>0.000000</td>\n",
       "      <td>0.000000</td>\n",
       "    </tr>\n",
       "    <tr>\n",
       "      <th>50%</th>\n",
       "      <td>0.292387</td>\n",
       "      <td>0.292387</td>\n",
       "      <td>0.292387</td>\n",
       "      <td>0.292387</td>\n",
       "      <td>0.292387</td>\n",
       "      <td>0.292387</td>\n",
       "      <td>0.292387</td>\n",
       "      <td>0.292854</td>\n",
       "      <td>0.292854</td>\n",
       "      <td>0.292854</td>\n",
       "      <td>...</td>\n",
       "      <td>0.000000</td>\n",
       "      <td>4.000000</td>\n",
       "      <td>0.000000</td>\n",
       "      <td>0.000000</td>\n",
       "      <td>0.000000</td>\n",
       "      <td>0.000000</td>\n",
       "      <td>0.000000</td>\n",
       "      <td>0.000000</td>\n",
       "      <td>0.000000</td>\n",
       "      <td>0.000000</td>\n",
       "    </tr>\n",
       "    <tr>\n",
       "      <th>75%</th>\n",
       "      <td>0.442317</td>\n",
       "      <td>0.442317</td>\n",
       "      <td>0.442317</td>\n",
       "      <td>0.442317</td>\n",
       "      <td>0.442317</td>\n",
       "      <td>0.442317</td>\n",
       "      <td>0.442317</td>\n",
       "      <td>0.442317</td>\n",
       "      <td>0.442317</td>\n",
       "      <td>0.442784</td>\n",
       "      <td>...</td>\n",
       "      <td>0.000000</td>\n",
       "      <td>4.000000</td>\n",
       "      <td>0.000000</td>\n",
       "      <td>1.000000</td>\n",
       "      <td>0.000000</td>\n",
       "      <td>1.000000</td>\n",
       "      <td>1.000000</td>\n",
       "      <td>1.000000</td>\n",
       "      <td>0.000000</td>\n",
       "      <td>0.000000</td>\n",
       "    </tr>\n",
       "    <tr>\n",
       "      <th>max</th>\n",
       "      <td>1.000000</td>\n",
       "      <td>1.000000</td>\n",
       "      <td>1.000000</td>\n",
       "      <td>1.000000</td>\n",
       "      <td>1.000000</td>\n",
       "      <td>1.000000</td>\n",
       "      <td>1.000000</td>\n",
       "      <td>1.000000</td>\n",
       "      <td>1.000000</td>\n",
       "      <td>1.000000</td>\n",
       "      <td>...</td>\n",
       "      <td>1.000000</td>\n",
       "      <td>5.000000</td>\n",
       "      <td>1.000000</td>\n",
       "      <td>1.000000</td>\n",
       "      <td>1.000000</td>\n",
       "      <td>1.000000</td>\n",
       "      <td>1.000000</td>\n",
       "      <td>1.000000</td>\n",
       "      <td>1.000000</td>\n",
       "      <td>1.000000</td>\n",
       "    </tr>\n",
       "  </tbody>\n",
       "</table>\n",
       "<p>8 rows × 48 columns</p>\n",
       "</div>"
      ],
      "text/plain": [
       "                 p1            p2            p3            p4            p5  \\\n",
       "count  45396.000000  45396.000000  45396.000000  45396.000000  45396.000000   \n",
       "mean       0.303292      0.303242      0.303202      0.303184      0.303190   \n",
       "std        0.199572      0.199618      0.199655      0.199674      0.199673   \n",
       "min        0.000000      0.000000      0.000000      0.000000      0.000000   \n",
       "25%        0.125175      0.124708      0.124708      0.124708      0.124708   \n",
       "50%        0.292387      0.292387      0.292387      0.292387      0.292387   \n",
       "75%        0.442317      0.442317      0.442317      0.442317      0.442317   \n",
       "max        1.000000      1.000000      1.000000      1.000000      1.000000   \n",
       "\n",
       "                 p6            p7            p8            p9           p10  \\\n",
       "count  45396.000000  45396.000000  45396.000000  45396.000000  45396.000000   \n",
       "mean       0.303224      0.303294      0.303406      0.303564      0.303775   \n",
       "std        0.199654      0.199620      0.199577      0.199559      0.199574   \n",
       "min        0.000000      0.000000      0.000000      0.000000      0.000000   \n",
       "25%        0.124708      0.124708      0.125175      0.125175      0.125642   \n",
       "50%        0.292387      0.292387      0.292854      0.292854      0.292854   \n",
       "75%        0.442317      0.442317      0.442317      0.442317      0.442784   \n",
       "max        1.000000      1.000000      1.000000      1.000000      1.000000   \n",
       "\n",
       "       ...           h21           h22           h23            d1  \\\n",
       "count  ...  45396.000000  45396.000000  45396.000000  45396.000000   \n",
       "mean   ...      0.041237      3.527778      0.222222      0.388889   \n",
       "std    ...      0.198840      0.832879      0.415744      0.487503   \n",
       "min    ...      0.000000      1.000000      0.000000      0.000000   \n",
       "25%    ...      0.000000      3.000000      0.000000      0.000000   \n",
       "50%    ...      0.000000      4.000000      0.000000      0.000000   \n",
       "75%    ...      0.000000      4.000000      0.000000      1.000000   \n",
       "max    ...      1.000000      5.000000      1.000000      1.000000   \n",
       "\n",
       "                 d2            d3            d4        #lanes          name  \\\n",
       "count  45396.000000  45396.000000  45396.000000  45396.000000  45396.000000   \n",
       "mean       0.111111      0.277778      0.416667      0.305556      0.138889   \n",
       "std        0.314273      0.447908      0.493012      0.460647      0.345834   \n",
       "min        0.000000      0.000000      0.000000      0.000000      0.000000   \n",
       "25%        0.000000      0.000000      0.000000      0.000000      0.000000   \n",
       "50%        0.000000      0.000000      0.000000      0.000000      0.000000   \n",
       "75%        0.000000      1.000000      1.000000      1.000000      0.000000   \n",
       "max        1.000000      1.000000      1.000000      1.000000      1.000000   \n",
       "\n",
       "          something  \n",
       "count  45396.000000  \n",
       "mean       0.138889  \n",
       "std        0.345834  \n",
       "min        0.000000  \n",
       "25%        0.000000  \n",
       "50%        0.000000  \n",
       "75%        0.000000  \n",
       "max        1.000000  \n",
       "\n",
       "[8 rows x 48 columns]"
      ]
     },
     "execution_count": 19,
     "metadata": {},
     "output_type": "execute_result"
    }
   ],
   "source": [
    "X_train.describe()\n",
    "# at least, col39 is different scale"
   ]
  },
  {
   "cell_type": "code",
   "execution_count": 20,
   "metadata": {},
   "outputs": [],
   "source": [
    "from sklearn.preprocessing import MinMaxScaler\n",
    "\n",
    "scaler = MinMaxScaler()\n",
    "scaler.fit(X_train)\n",
    "X_train_norm = scaler.transform(X_train)\n",
    "X_test_norm = scaler.transform(X_test)"
   ]
  },
  {
   "cell_type": "code",
   "execution_count": 21,
   "metadata": {},
   "outputs": [
    {
     "data": {
      "text/plain": [
       "((45396, 48), (45396,), (30240, 48), (30240,))"
      ]
     },
     "execution_count": 21,
     "metadata": {},
     "output_type": "execute_result"
    }
   ],
   "source": [
    "X_train.shape, y_train.shape, X_test.shape, y_test.shape"
   ]
  },
  {
   "cell_type": "code",
   "execution_count": 22,
   "metadata": {},
   "outputs": [
    {
     "data": {
      "text/plain": [
       "array([1, 2, 1, 2, 1, 2])"
      ]
     },
     "execution_count": 22,
     "metadata": {},
     "output_type": "execute_result"
    }
   ],
   "source": [
    "np.array([[1,1,1],[2,2,2]]).T.flatten()"
   ]
  },
  {
   "cell_type": "markdown",
   "metadata": {},
   "source": [
    "## Simple Regression without pre-processing"
   ]
  },
  {
   "cell_type": "code",
   "execution_count": 23,
   "metadata": {},
   "outputs": [],
   "source": [
    "from sklearn.metrics import r2_score"
   ]
  },
  {
   "cell_type": "code",
   "execution_count": 24,
   "metadata": {},
   "outputs": [
    {
     "name": "stdout",
     "output_type": "stream",
     "text": [
      "0.9506010985123429\n"
     ]
    }
   ],
   "source": [
    "from sklearn.linear_model import LinearRegression\n",
    "\n",
    "model = LinearRegression()\n",
    "model.fit(X_train_norm, y_train)\n",
    "print(r2_score(y_test, model.predict(X_test_norm)))"
   ]
  },
  {
   "cell_type": "code",
   "execution_count": 25,
   "metadata": {},
   "outputs": [],
   "source": [
    "from sklearn.linear_model import Lasso, BayesianRidge, ElasticNet\n",
    "from sklearn.svm import SVR\n",
    "from sklearn.linear_model import SGDRegressor\n",
    "from sklearn.tree import DecisionTreeRegressor\n",
    "from sklearn.neural_network import MLPRegressor\n",
    "\n",
    "models = [\n",
    "    LinearRegression(),\n",
    "    Lasso(),\n",
    "    BayesianRidge(),\n",
    "    ElasticNet(),\n",
    "    # SVR(), # too much time\n",
    "    SGDRegressor(),\n",
    "    DecisionTreeRegressor(),\n",
    "    MLPRegressor()\n",
    "]"
   ]
  },
  {
   "cell_type": "code",
   "execution_count": 26,
   "metadata": {},
   "outputs": [
    {
     "name": "stdout",
     "output_type": "stream",
     "text": [
      "LinearRegression()\n",
      "0.9506010985123429\n",
      "\n",
      "Lasso()\n",
      "-0.006971754422839149\n",
      "\n",
      "BayesianRidge()\n",
      "0.9506004858765027\n",
      "\n",
      "ElasticNet()\n",
      "-0.006971754422839149\n",
      "\n",
      "SGDRegressor()\n",
      "0.939812223528777\n",
      "\n",
      "DecisionTreeRegressor()\n",
      "0.9334362493209533\n",
      "\n",
      "MLPRegressor()\n",
      "0.9634289430512581\n",
      "\n"
     ]
    }
   ],
   "source": [
    "for model in models:\n",
    "    model.fit(X_train_norm, y_train)\n",
    "    print(model)\n",
    "    print(r2_score(y_test, model.predict(X_test_norm)))\n",
    "    print()"
   ]
  },
  {
   "cell_type": "markdown",
   "metadata": {},
   "source": [
    "## Regression with dimension reduction by PCA"
   ]
  },
  {
   "cell_type": "code",
   "execution_count": 27,
   "metadata": {},
   "outputs": [],
   "source": [
    "from sklearn.decomposition import PCA\n",
    "\n",
    "n_components = 10\n",
    "pca1 = PCA(n_components=n_components)\n",
    "X_train_2d = pca1.fit_transform(X_train_norm)\n",
    "pca2 = PCA(n_components=n_components)\n",
    "X_test_2d = pca2.fit_transform(X_test_norm)"
   ]
  },
  {
   "cell_type": "code",
   "execution_count": 28,
   "metadata": {},
   "outputs": [
    {
     "name": "stdout",
     "output_type": "stream",
     "text": [
      "LinearRegression()\n",
      "0.7005884871929011\n",
      "\n",
      "Lasso()\n",
      "-0.006971754422839149\n",
      "\n",
      "BayesianRidge()\n",
      "0.7005911256623365\n",
      "\n",
      "ElasticNet()\n",
      "-0.006971754422839149\n",
      "\n",
      "SGDRegressor()\n",
      "0.7006302694239634\n",
      "\n",
      "DecisionTreeRegressor()\n",
      "-0.18105927292907076\n",
      "\n",
      "MLPRegressor()\n",
      "0.5746822112955187\n",
      "\n"
     ]
    }
   ],
   "source": [
    "for model in models:\n",
    "    model.fit(X_train_2d, y_train)\n",
    "    print(model)\n",
    "    print(r2_score(y_test, model.predict(X_test_2d)))\n",
    "    print()"
   ]
  },
  {
   "cell_type": "code",
   "execution_count": null,
   "metadata": {},
   "outputs": [],
   "source": []
  }
 ],
 "metadata": {
  "kernelspec": {
   "display_name": "venv",
   "language": "python",
   "name": "python3"
  },
  "language_info": {
   "codemirror_mode": {
    "name": "ipython",
    "version": 3
   },
   "file_extension": ".py",
   "mimetype": "text/x-python",
   "name": "python",
   "nbconvert_exporter": "python",
   "pygments_lexer": "ipython3",
   "version": "3.10.12"
  },
  "orig_nbformat": 4
 },
 "nbformat": 4,
 "nbformat_minor": 2
}
